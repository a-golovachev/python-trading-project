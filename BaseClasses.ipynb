{
 "cells": [
  {
   "cell_type": "code",
   "execution_count": 1,
   "id": "2f6ac525",
   "metadata": {},
   "outputs": [],
   "source": [
    "import numpy as np"
   ]
  },
  {
   "cell_type": "code",
   "execution_count": null,
   "id": "e0ef5d8f",
   "metadata": {},
   "outputs": [],
   "source": [
    "class Order:\n",
    "    def __init__(self, side, asset, qty, price, order_type):\n",
    "        self.side = side\n",
    "        self.asset = asset\n",
    "        self.qty = qty\n",
    "        self.price = price\n",
    "        self.order_type = order_type\n",
    "    \n",
    "    def __str__(self):\n",
    "        return f\"A {self.order_type} order to sell {self.side} {self.qty} of {self.asset} at the price of {self.price}\"\n",
    "\n",
    "class Asset:\n",
    "    def __init__(self, name, price):\n",
    "        self.name = name\n",
    "        self.price = price\n",
    "        \n",
    "    def __str__(self):\n",
    "        return self.name\n",
    "    \n",
    "class Strategy: \n",
    "    def __init__(self, position, cash):\n",
    "        self.position = position\n",
    "        self.cash = cash\n",
    "        "
   ]
  }
 ],
 "metadata": {
  "kernelspec": {
   "display_name": "Python 3 (ipykernel)",
   "language": "python",
   "name": "python3"
  },
  "language_info": {
   "codemirror_mode": {
    "name": "ipython",
    "version": 3
   },
   "file_extension": ".py",
   "mimetype": "text/x-python",
   "name": "python",
   "nbconvert_exporter": "python",
   "pygments_lexer": "ipython3",
   "version": "3.9.12"
  }
 },
 "nbformat": 4,
 "nbformat_minor": 5
}
